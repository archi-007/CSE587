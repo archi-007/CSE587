{
 "cells": [
  {
   "cell_type": "markdown",
   "id": "51cdee53",
   "metadata": {},
   "source": [
    "download the uniprot_sprot database and unzip\n",
    "\n",
    "```\n",
    "wget https://ftp.uniprot.org/pub/databases/uniprot/current_release/knowledgebase/complete/uniprot_sprot.dat.gz\n",
    "gunzip uniprot_sprot.dat.gz\n",
    "```"
   ]
  },
  {
   "cell_type": "code",
   "execution_count": null,
   "id": "f6fe7767",
   "metadata": {},
   "outputs": [],
   "source": [
    "from pathlib import Path\n",
    "import json\n",
    "\n",
    "def parse_uniprot_dat(file_path, max_entries=1000):\n",
    "    entries = []\n",
    "    with open(file_path, \"r\") as f:\n",
    "        entry = []\n",
    "        for line in f:\n",
    "            if line.startswith(\"//\"):  # end of entry\n",
    "                entry_str = \"\\n\".join(entry)\n",
    "                parsed = parse_entry(entry_str)\n",
    "                if parsed:\n",
    "                    entries.append(parsed)\n",
    "                entry = []\n",
    "                if len(entries) >= max_entries:\n",
    "                    break\n",
    "            else:\n",
    "                entry.append(line.strip())\n",
    "    return entries\n",
    "\n",
    "def parse_entry(entry_text):\n",
    "    lines = entry_text.splitlines()\n",
    "    seq_lines, function, domains = [], None, []\n",
    "    in_sequence = False\n",
    "\n",
    "    for line in lines:\n",
    "        if line.startswith(\"CC   -!- FUNCTION:\"):\n",
    "            function = line.split(\"FUNCTION:\")[1].strip().rstrip('.')\n",
    "        elif line.startswith(\"FT   DOMAIN\"):\n",
    "            domain = \" \".join(line.split()[2:])\n",
    "            domains.append(domain)\n",
    "        elif line.startswith(\"SQ\"):\n",
    "            in_sequence = True\n",
    "        elif in_sequence:\n",
    "            if line:\n",
    "                seq_lines.append(line.replace(\" \", \"\"))\n",
    "    \n",
    "    sequence = \"\".join(seq_lines)\n",
    "    if not function or not sequence:\n",
    "        return None\n",
    "\n",
    "    prompt = f\"Protein Sequence:\\n{sequence}\\nDomains: {', '.join(domains) or 'None'}\"\n",
    "    return {\"prompt\": prompt, \"response\": function}\n",
    "\n",
    "def save_jsonl(data, filename):\n",
    "    with open(filename, \"w\") as f:\n",
    "        for entry in data:\n",
    "            json.dump(entry, f)\n",
    "            f.write(\"\\n\")\n",
    "\n",
    "if __name__ == \"__main__\":\n",
    "    entries = parse_uniprot_dat(\"uniprot_sprot.dat\", max_entries=1000)\n",
    "    save_jsonl(entries, \"swissprot_llm_dataset.jsonl\")\n",
    "    \n"
   ]
  }
 ],
 "metadata": {
  "kernelspec": {
   "display_name": "base",
   "language": "python",
   "name": "python3"
  },
  "language_info": {
   "codemirror_mode": {
    "name": "ipython",
    "version": 3
   },
   "file_extension": ".py",
   "mimetype": "text/x-python",
   "name": "python",
   "nbconvert_exporter": "python",
   "pygments_lexer": "ipython3",
   "version": "3.12.2"
  }
 },
 "nbformat": 4,
 "nbformat_minor": 5
}
